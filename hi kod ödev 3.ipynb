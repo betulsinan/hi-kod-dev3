{
 "cells": [
  {
   "cell_type": "code",
   "execution_count": 1,
   "id": "93e59d3a-096a-4445-8073-a42d3d7f0d7f",
   "metadata": {},
   "outputs": [],
   "source": [
    "def daire_alani(pi, yaricap):\n",
    "    alan = pi * (yaricap ** 2)\n",
    "    return alan "
   ]
  },
  {
   "cell_type": "code",
   "execution_count": 5,
   "id": "08f6e515-13c6-485a-9395-b90be6d19a50",
   "metadata": {},
   "outputs": [
    {
     "name": "stdin",
     "output_type": "stream",
     "text": [
      "Pi değerini girer misiniz:  3.14\n",
      "yaricap değerini girer misiniz:  25\n"
     ]
    }
   ],
   "source": [
    "pi_degeri = float(input(\"Pi değerini girer misiniz: \"))\n",
    "yaricap = float(input(\"yaricap değerini girer misiniz: \"))\n",
    "alan = daire_alani(pi_degeri, yaricap)"
   ]
  },
  {
   "cell_type": "code",
   "execution_count": 7,
   "id": "3b686ed0-836f-4a3d-a57f-cd45d4cd996c",
   "metadata": {},
   "outputs": [
    {
     "name": "stdout",
     "output_type": "stream",
     "text": [
      ": Dairenin Alanı: 1962.5\n"
     ]
    }
   ],
   "source": [
    "print(f\": Dairenin Alanı: {alan}\")"
   ]
  },
  {
   "cell_type": "code",
   "execution_count": 74,
   "id": "4ccdeb0a-2027-48f3-9df2-74683357c7e2",
   "metadata": {},
   "outputs": [
    {
     "name": "stdin",
     "output_type": "stream",
     "text": [
      "Faktöriyel değerini girer misiniz:  5\n"
     ]
    },
    {
     "name": "stdout",
     "output_type": "stream",
     "text": [
      "5! = 120\n"
     ]
    }
   ],
   "source": [
    "def faktoriyel(sayi):\n",
    "    sonuc = 1\n",
    "    for i in range(1, sayi + 1):\n",
    "        sonuc *= i\n",
    "    return sonuc\n",
    "\n",
    "sayi = int(input(\"Faktöriyel değerini girer misiniz: \"))\n",
    "sonuc = faktoriyel(sayi)\n",
    "print(f\"{sayi}! = {sonuc}\")\n"
   ]
  },
  {
   "cell_type": "code",
   "execution_count": 30,
   "id": "604ed4df-2e8a-4124-b057-187b2f0f5d56",
   "metadata": {},
   "outputs": [],
   "source": [
    "def yas_hesapla(dogum_yili):\n",
    "    mevcut_yil = 2024\n",
    "    yas = mevcut_yil - dogum_yili\n",
    "    return yas"
   ]
  },
  {
   "cell_type": "code",
   "execution_count": 36,
   "id": "aa57b140-298e-4e24-ab74-97c2ddd0f7f5",
   "metadata": {},
   "outputs": [
    {
     "name": "stdin",
     "output_type": "stream",
     "text": [
      "Doğum yılınızı girer misiniz:  1978\n"
     ]
    },
    {
     "name": "stdout",
     "output_type": "stream",
     "text": [
      "Şu an 46 yaşındasınız.\n"
     ]
    }
   ],
   "source": [
    "dogum_yili = int(input(\"Doğum yılınızı girer misiniz: \"))\n",
    "yas = yas_hesapla(dogum_yili)\n",
    "print(f\"Şu an {yas} yaşındasınız.\")"
   ]
  },
  {
   "cell_type": "code",
   "execution_count": 76,
   "id": "9c9f49dd-d951-4a22-b64c-ff6ec42fcfb4",
   "metadata": {},
   "outputs": [],
   "source": [
    "def emeklilik_hesapla(isim, dogum_yili):\n",
    "    yas = yas_hesapla(dogum_yili) \n",
    "    emeklilik_yasi = 65\n",
    "    \n",
    "    if yas >= emeklilik_yasi:\n",
    "        print(f\"{isim}, Emekli oldunuz!\")\n",
    "    else:\n",
    "        kalan_yil = emeklilik_yasi - yas\n",
    "        print(f\"{isim}, emekliliğinize {kalan_yil} yıl kaldı.\")"
   ]
  },
  {
   "cell_type": "code",
   "execution_count": 78,
   "id": "cedbd7e8-1263-4e8a-84f1-fbc648cd499f",
   "metadata": {},
   "outputs": [
    {
     "name": "stdin",
     "output_type": "stream",
     "text": [
      "Adınızı girer misiniz:  şerife\n",
      "Doğum yılınızı girer misiniz:  1978\n"
     ]
    },
    {
     "name": "stdout",
     "output_type": "stream",
     "text": [
      "şerife, emekliliğinize 19 yıl kaldı.\n"
     ]
    }
   ],
   "source": [
    "isim = input(\"Adınızı girer misiniz: \")\n",
    "dogum_yili = int(input(\"Doğum yılınızı girer misiniz: \"))\n",
    "emeklilik_hesapla(isim, dogum_yili)"
   ]
  }
 ],
 "metadata": {
  "kernelspec": {
   "display_name": "Python 3 (ipykernel)",
   "language": "python",
   "name": "python3"
  },
  "language_info": {
   "codemirror_mode": {
    "name": "ipython",
    "version": 3
   },
   "file_extension": ".py",
   "mimetype": "text/x-python",
   "name": "python",
   "nbconvert_exporter": "python",
   "pygments_lexer": "ipython3",
   "version": "3.12.4"
  }
 },
 "nbformat": 4,
 "nbformat_minor": 5
}
